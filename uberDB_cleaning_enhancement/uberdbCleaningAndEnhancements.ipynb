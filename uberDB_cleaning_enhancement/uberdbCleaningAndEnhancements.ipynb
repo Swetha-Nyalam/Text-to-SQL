{
 "cells": [
  {
   "cell_type": "code",
   "execution_count": 59,
   "id": "82e65818-6af8-4622-93f2-4d3ce794fb40",
   "metadata": {},
   "outputs": [],
   "source": [
    "import time\n",
    "import pandas as pd\n",
    "import pandas as pd\n",
    "from scipy.spatial import cKDTree\n",
    "from tqdm import tqdm\n",
    "import math\n",
    "#from geopy.geocoders import Nominatim\n",
    "#from geopy.exc import GeopyError"
   ]
  },
  {
   "cell_type": "code",
   "execution_count": 50,
   "id": "759d32c1-5c8c-4dda-8cdc-3ef5eb739cb9",
   "metadata": {},
   "outputs": [],
   "source": [
    "df = pd.read_csv(\"uber_cleaned.csv\")"
   ]
  },
  {
   "cell_type": "code",
   "execution_count": 61,
   "id": "94d51b85",
   "metadata": {},
   "outputs": [
    {
     "name": "stdout",
     "output_type": "stream",
     "text": [
      "         Id  fare_amount      pickup_datetime  passenger_count  \\\n",
      "0  24238194          7.5  2015-05-07 19:52:06                1   \n",
      "1  27835199          7.7  2009-07-17 20:04:56                1   \n",
      "2  44984355         12.9  2009-08-24 21:45:00                1   \n",
      "3  25894730          5.3  2009-06-26 08:22:21                3   \n",
      "4  17610152         16.0  2014-08-28 17:47:00                5   \n",
      "\n",
      "   distance_miles pickup_statecode pickup_statename     pickup_city  \\\n",
      "0        1.045980               NY         New York        New York   \n",
      "1        1.527093               NY         New York        New York   \n",
      "2        3.129495               NY         New York        New York   \n",
      "3        1.032534               NJ       New Jersey  Cliffside Park   \n",
      "4        2.780947               NY         New York       Sunnyside   \n",
      "\n",
      "  dropoff_statecode dropoff_statename      dropoff_city pickup_county  \\\n",
      "0                NY          New York          New York      New York   \n",
      "1                NY          New York          New York      New York   \n",
      "2                NY          New York  Long Island City      New York   \n",
      "3                NJ        New Jersey    Cliffside Park        Bergen   \n",
      "4                NY          New York          New York        Queens   \n",
      "\n",
      "  dropoff_county  \n",
      "0       New York  \n",
      "1       New York  \n",
      "2         Queens  \n",
      "3         Bergen  \n",
      "4       New York  \n"
     ]
    }
   ],
   "source": [
    "print(df.head())"
   ]
  },
  {
   "cell_type": "code",
   "execution_count": 63,
   "id": "635b74b4",
   "metadata": {},
   "outputs": [
    {
     "name": "stdout",
     "output_type": "stream",
     "text": [
      "Id                     int64\n",
      "fare_amount          float64\n",
      "pickup_datetime       object\n",
      "passenger_count        int64\n",
      "distance_miles       float64\n",
      "pickup_statecode      object\n",
      "pickup_statename      object\n",
      "pickup_city           object\n",
      "dropoff_statecode     object\n",
      "dropoff_statename     object\n",
      "dropoff_city          object\n",
      "pickup_county         object\n",
      "dropoff_county        object\n",
      "dtype: object\n"
     ]
    }
   ],
   "source": [
    "print(df.dtypes)"
   ]
  },
  {
   "cell_type": "code",
   "execution_count": 60,
   "id": "52df3f92-41e1-4f24-b8f1-ea58274f8ab7",
   "metadata": {},
   "outputs": [],
   "source": [
    "#print(df.head())\n",
    "# print(df.dtypes)"
   ]
  },
  {
   "cell_type": "code",
   "execution_count": 54,
   "id": "b28a52a4",
   "metadata": {},
   "outputs": [],
   "source": [
    "#cleaning the uber table\n",
    "# Ensuring data types are correct\n",
    "df['Id'] = df['Id'].astype(int)\n",
    "df['fare_amount'] = df['fare_amount'].astype(float)\n",
    "df['pickup_datetime'] = pd.to_datetime(df['pickup_datetime']).astype(\n",
    "    str)  # Convert to ISO format string\n",
    "df['passenger_count'] = df['passenger_count'].astype(int)\n",
    "df['distance_miles'] = df['distance_miles'].astype(float)\n",
    "# Other columns should be strings\n",
    "df['pickup_statecode'] = df['pickup_statecode'].astype(str)\n",
    "df['pickup_statename'] = df['pickup_statename'].astype(str)\n",
    "df['pickup_city'] = df['pickup_city'].astype(str)\n",
    "df['dropoff_statecode'] = df['dropoff_statecode'].astype(str)\n",
    "df['dropoff_statename'] = df['dropoff_statename'].astype(str)\n",
    "df['dropoff_city'] = df['dropoff_city'].astype(str)\n",
    "df['pickup_county'] = df['pickup_county'].astype(str)\n",
    "df['dropoff_county'] = df['dropoff_county'].astype(str)"
   ]
  },
  {
   "cell_type": "code",
   "execution_count": 57,
   "id": "c376dc93",
   "metadata": {},
   "outputs": [],
   "source": [
    "#print(df.dtypes)"
   ]
  },
  {
   "cell_type": "code",
   "execution_count": 5,
   "id": "af5298cb-bf62-43fb-bea3-5096a164bb91",
   "metadata": {},
   "outputs": [],
   "source": [
    "#deletign the rows from table with latitudes and longitudes out of range\n",
    "min_pickup_latitude = df['pickup_latitude'].min()\n",
    "max_pickup_latitude = df['pickup_latitude'].max()\n",
    "min_pickup_longitude = df['pickup_longitude'].min()\n",
    "max_pickup_longitude = df['pickup_longitude'].max()"
   ]
  },
  {
   "cell_type": "code",
   "execution_count": 6,
   "id": "1bd81c94-d944-4687-b638-017a8dce0edd",
   "metadata": {},
   "outputs": [
    {
     "name": "stdout",
     "output_type": "stream",
     "text": [
      "-74.01551500000001\n",
      "40.808425\n",
      "-93.824668\n",
      "40.808425\n"
     ]
    }
   ],
   "source": [
    "print(min_pickup_latitude)\n",
    "print(max_pickup_longitude)\n",
    "print(min_pickup_longitude)\n",
    "print(max_pickup_longitude)"
   ]
  },
  {
   "cell_type": "code",
   "execution_count": 7,
   "id": "6f6bc800-2d4d-44c5-bf83-10c5f096d246",
   "metadata": {},
   "outputs": [],
   "source": [
    "lat_min, lat_max = -90, 90\n",
    "lon_min, lon_max = -180, 180"
   ]
  },
  {
   "cell_type": "code",
   "execution_count": 9,
   "id": "288592ad-7990-48b6-a1a1-d10e06f0dcea",
   "metadata": {},
   "outputs": [],
   "source": [
    "df = df[\n",
    "    (df['pickup_latitude'] >= lat_min) & (df['pickup_latitude'] <= lat_max) &\n",
    "    (df['pickup_longitude'] >= lon_min) & (df['pickup_longitude'] <= lon_max) &\n",
    "    (df['dropoff_latitude'] >= lat_min) & (df['dropoff_latitude'] <= lat_max) &\n",
    "    (df['dropoff_longitude'] >= lon_min) & (df['dropoff_longitude'] <= lon_max)\n",
    "]"
   ]
  },
  {
   "cell_type": "code",
   "execution_count": 10,
   "id": "a5667d89-8077-42ee-b177-f73873ca6d6a",
   "metadata": {},
   "outputs": [
    {
     "name": "stdout",
     "output_type": "stream",
     "text": [
      "199987\n"
     ]
    }
   ],
   "source": [
    "print(len(df))"
   ]
  },
  {
   "cell_type": "code",
   "execution_count": 11,
   "id": "f8a07342-1e14-446b-a597-1be402a431b8",
   "metadata": {},
   "outputs": [
    {
     "name": "stdout",
     "output_type": "stream",
     "text": [
      "-74.01551500000001\n",
      "40.808425\n",
      "-93.824668\n",
      "40.808425\n"
     ]
    }
   ],
   "source": [
    "min_pickup_latitude = df['pickup_latitude'].min()\n",
    "max_pickup_latitude = df['pickup_latitude'].max()\n",
    "min_pickup_longitude = df['pickup_longitude'].min()\n",
    "max_pickup_longitude = df['pickup_longitude'].max()\n",
    "\n",
    "print(min_pickup_latitude)\n",
    "print(max_pickup_longitude)\n",
    "print(min_pickup_longitude)\n",
    "print(max_pickup_longitude)"
   ]
  },
  {
   "cell_type": "code",
   "execution_count": 12,
   "id": "34676dd1-afb1-4ad0-92ff-739afb04f4ad",
   "metadata": {},
   "outputs": [
    {
     "name": "stdout",
     "output_type": "stream",
     "text": [
      "199987\n"
     ]
    }
   ],
   "source": [
    "print(len(df))"
   ]
  },
  {
   "cell_type": "code",
   "execution_count": 3,
   "id": "9f592686-f601-4df7-a2da-c49d084cf9b0",
   "metadata": {},
   "outputs": [],
   "source": [
    "unique_values = set(df['pickup_latitude'])"
   ]
  },
  {
   "cell_type": "code",
   "execution_count": 13,
   "id": "0aa3cf93-dca7-440c-b9d9-95d0b475ad11",
   "metadata": {},
   "outputs": [],
   "source": [
    "pickup_latitudes = df['pickup_latitude']\n",
    "pickup_longitudes = df['pickup_longitude']"
   ]
  },
  {
   "cell_type": "code",
   "execution_count": 14,
   "id": "9701ef78-fe15-4189-8d30-1ec3e50c918d",
   "metadata": {},
   "outputs": [
    {
     "name": "stdout",
     "output_type": "stream",
     "text": [
      "Min pickup_latitude: -74.01551500000001\n",
      "Max pickup_latitude: 48.01876\n",
      "Min pickup_longitude: -93.824668\n",
      "Max pickup_longitude: 40.808425\n",
      "Min dropoff_latitude: -74.01575\n",
      "Max dropoff_latitude: 45.031597999999995\n",
      "Min dropoff_longitude: -75.458978633981\n",
      "Max dropoff_longitude: 40.831932\n"
     ]
    }
   ],
   "source": [
    "#verifying that values are within the range\n",
    "min_pickup_latitude = df['pickup_latitude'].min()\n",
    "max_pickup_latitude = df['pickup_latitude'].max()\n",
    "min_pickup_longitude = df['pickup_longitude'].min()\n",
    "max_pickup_longitude = df['pickup_longitude'].max()\n",
    "\n",
    "print(\"Min pickup_latitude:\", min_pickup_latitude)\n",
    "print(\"Max pickup_latitude:\", max_pickup_latitude)\n",
    "print(\"Min pickup_longitude:\", min_pickup_longitude)\n",
    "print(\"Max pickup_longitude:\", max_pickup_longitude)\n",
    "\n",
    "# Calculate min and max for dropoff_latitude and dropoff_longitude\n",
    "min_dropoff_latitude = df['dropoff_latitude'].min()\n",
    "max_dropoff_latitude = df['dropoff_latitude'].max()\n",
    "min_dropoff_longitude = df['dropoff_longitude'].min()\n",
    "max_dropoff_longitude = df['dropoff_longitude'].max()\n",
    "\n",
    "# Print the results\n",
    "print(\"Min dropoff_latitude:\", min_dropoff_latitude)\n",
    "print(\"Max dropoff_latitude:\", max_dropoff_latitude)\n",
    "print(\"Min dropoff_longitude:\", min_dropoff_longitude)\n",
    "print(\"Max dropoff_longitude:\", max_dropoff_longitude)\n"
   ]
  },
  {
   "cell_type": "code",
   "execution_count": 16,
   "id": "8f07c43b-02dc-4eee-a06b-8bc0db22c55c",
   "metadata": {},
   "outputs": [
    {
     "name": "stderr",
     "output_type": "stream",
     "text": [
      "INFO:lamini.api.lamini:Using 3.10 InferenceQueue Interface\n"
     ]
    }
   ],
   "source": [
    "import lamini\n",
    "\n",
    "\n",
    "lamini.api_key = \"1ac6f38b3e7f498fa2c3ed6ea9df68b9\"\n",
    "llm = lamini.Lamini(model_name=\"meta-llama/Meta-Llama-3-8B-Instruct\")"
   ]
  },
  {
   "cell_type": "code",
   "execution_count": 17,
   "id": "da864f6e-6317-452f-a3a5-068da9819a47",
   "metadata": {},
   "outputs": [],
   "source": [
    "#print(llm.generate(\"How are you?\", max_new_tokens = 30))"
   ]
  },
  {
   "cell_type": "code",
   "execution_count": 18,
   "id": "42e6801a-4f78-4a05-a6e0-be04ed0bab9d",
   "metadata": {},
   "outputs": [],
   "source": [
    "def make_llama_3_prompt(user, system=\"\"):\n",
    "   system_prompt = \"\"\n",
    "   if system != \"\":\n",
    "       system_prompt = (\n",
    "           f\"<|start_header_id|>system<|end_header_id|>\\n\\n{system}<|eot_id|>\"\n",
    "       )\n",
    "   return f\"<|begin_of_text|>{system_prompt}<|start_header_id|>user<|end_header_id|>\\n\\n{user}<|eot_id|><|start_header_id|>assistant<|end_header_id|>\\n\\n\""
   ]
  },
  {
   "cell_type": "code",
   "execution_count": 19,
   "id": "455a497b-8f4a-456c-8cdc-e69f69b726eb",
   "metadata": {},
   "outputs": [],
   "source": [
    "def make_prompt(question):\n",
    "    system = \"You are a geographic location specialist with extensive experience in converting latitude and longitude coordinates into precise location information.\\n\"\n",
    "    system += \"Understand the provided latitude and longitude values and generate a descriptive location, including city and state if possible.\\n\"\n",
    "    system += \"Consider the latitude and longitude provided in the question and use your knowledge to infer the location accurately.\\n\"\n",
    "    system += \"Just output the location in the json format.\\n\"\n",
    "    return make_llama_3_prompt(question, system)\n"
   ]
  },
  {
   "cell_type": "code",
   "execution_count": 20,
   "id": "c6342e7b-5383-41ad-b79e-bca5a99afabd",
   "metadata": {},
   "outputs": [],
   "source": [
    "generated_locations = []"
   ]
  },
  {
   "cell_type": "code",
   "execution_count": 21,
   "id": "1dca9922-c252-431e-b88e-091368982479",
   "metadata": {},
   "outputs": [
    {
     "name": "stdout",
     "output_type": "stream",
     "text": [
      "199987\n"
     ]
    }
   ],
   "source": [
    "print(len(df))"
   ]
  },
  {
   "cell_type": "code",
   "execution_count": null,
   "id": "e4323900-7998-4382-8cb3-fda95aa3c25e",
   "metadata": {},
   "outputs": [],
   "source": [
    "# async method for lamini call to generate location of a place base on the latitude and longitude\n",
    "# the async inference calls are very slow and not practical for a table with 200 thousand rows\n",
    "for index in range(len(df)):\n",
    "    latitude = pickup_latitudes[index]\n",
    "    longitude = pickup_longitudes[index]\n",
    "    question = f\"Latitude is: {latitude} and Longitude is: {longitude}\\n\"\n",
    "    prompt = make_prompt(question)\n",
    "    result = llm.generate(prompt, output_type = {\n",
    "        \"location\": \"str\"\n",
    "    })\n",
    "    generated_locations.append(result['location'])"
   ]
  },
  {
   "cell_type": "code",
   "execution_count": 16,
   "id": "0d45736b-4e86-4ae1-8463-a856b6b74d67",
   "metadata": {},
   "outputs": [
    {
     "name": "stderr",
     "output_type": "stream",
     "text": [
      "Mapping Pickup Coordinates: 100%|████| 199987/199987 [00:14<00:00, 13537.39it/s]\n",
      "Mapping Dropoff Coordinates: 100%|███| 199987/199987 [00:14<00:00, 14140.78it/s]\n"
     ]
    },
    {
     "name": "stdout",
     "output_type": "stream",
     "text": [
      "Mapping completed and saved to 'uber_updated_with_locations_and_counties.csv'\n"
     ]
    }
   ],
   "source": [
    "\"\"\"\n",
    "This script performs the following tasks:\n",
    "1. Loads coordinates and location data from CSV files into DataFrames.\n",
    "2. Initializes a KDTree for efficient spatial queries using latitude and longitude.\n",
    "3. Defines a function to map coordinates to the nearest location and retrieve state code, state name, city, and county.\n",
    "4. Applies this mapping function to both pickup and dropoff coordinates, adding new columns for the nearest location details.\n",
    "5. Saves the updated DataFrame with the new location information to a CSV file.\n",
    "\"\"\"\n",
    "\n",
    "# Loading the DataFrames from CSV files\n",
    "df_coordinates = pd.read_csv('uber_updated.csv')  \n",
    "df_locations = pd.read_csv('us_cities.csv')      \n",
    "\n",
    "# Creating a KDTree for the locations DataFrame\n",
    "tree = cKDTree(df_locations[['LATITUDE', 'LONGITUDE']].values)\n",
    "\n",
    "# Define a function to map coordinates to the nearest location and return multiple columns\n",
    "def map_to_location(lat, lon, tree, df_locations):\n",
    "    distance, index = tree.query([lat, lon])\n",
    "    location = df_locations.iloc[index]\n",
    "    return location['STATE_CODE'], location['STATE_NAME'], location['CITY'], location['COUNTY']\n",
    "\n",
    "# Apply the function to the pickup coordinates DataFrame with a progress bar\n",
    "tqdm.pandas(desc=\"Mapping Pickup Coordinates\")\n",
    "df_coordinates[['pickup_statecode', 'pickup_statename', 'pickup_city', 'pickup_county']] = df_coordinates.progress_apply(\n",
    "    lambda row: pd.Series(map_to_location(row['pickup_latitude'], row['pickup_longitude'], tree, df_locations)),\n",
    "    axis=1\n",
    ")\n",
    "\n",
    "# Apply the function to the dropoff coordinates DataFrame with a progress bar\n",
    "tqdm.pandas(desc=\"Mapping Dropoff Coordinates\")\n",
    "df_coordinates[['dropoff_statecode', 'dropoff_statename', 'dropoff_city', 'dropoff_county']] = df_coordinates.progress_apply(\n",
    "    lambda row: pd.Series(map_to_location(row['dropoff_latitude'], row['dropoff_longitude'], tree, df_locations)),\n",
    "    axis=1\n",
    ")\n",
    "\n",
    "# Save the updated DataFrame back to a new CSV file\n",
    "df_coordinates.to_csv('uber_updated.csv', index=False)\n",
    "\n",
    "print(\"Mapping completed and saved to 'uber_updated_with_locations_and_counties.csv'\")"
   ]
  },
  {
   "cell_type": "code",
   "execution_count": 14,
   "id": "e8c85be0-d371-4ab2-a2e3-e2ad06474d04",
   "metadata": {},
   "outputs": [
    {
     "name": "stdout",
     "output_type": "stream",
     "text": [
      "         Id  fare_amount      pickup_datetime  pickup_longitude  \\\n",
      "0  24238194          7.5  2015-05-07 19:52:06        -73.999817   \n",
      "1  27835199          7.7  2009-07-17 20:04:56        -73.994355   \n",
      "2  44984355         12.9  2009-08-24 21:45:00        -74.005043   \n",
      "3  25894730          5.3  2009-06-26 08:22:21        -73.976124   \n",
      "4  17610152         16.0  2014-08-28 17:47:00        -73.925023   \n",
      "\n",
      "   pickup_latitude  dropoff_longitude  dropoff_latitude  passenger_count  \\\n",
      "0        40.738354         -73.999512         40.723217                1   \n",
      "1        40.728225         -73.994710         40.750325                1   \n",
      "2        40.740770         -73.962565         40.772647                1   \n",
      "3        40.790844         -73.965316         40.803349                3   \n",
      "4        40.744085         -73.973082         40.761247                5   \n",
      "\n",
      "   distance_miles pickup_statecode pickup_statename     pickup_city  \\\n",
      "0        1.045980               NY         New York        New York   \n",
      "1        1.527093               NY         New York        New York   \n",
      "2        3.129495               NY         New York        New York   \n",
      "3        1.032534               NJ       New Jersey  Cliffside Park   \n",
      "4        2.780947               NY         New York       Sunnyside   \n",
      "\n",
      "  dropoff_statecode dropoff_statename      dropoff_city  \n",
      "0                NY          New York          New York  \n",
      "1                NY          New York          New York  \n",
      "2                NY          New York  Long Island City  \n",
      "3                NJ        New Jersey    Cliffside Park  \n",
      "4                NY          New York          New York  \n"
     ]
    }
   ],
   "source": [
    "print(df.head())"
   ]
  },
  {
   "cell_type": "code",
   "execution_count": null,
   "id": "739e5587-1d0c-40bb-ad9e-a2a710d21620",
   "metadata": {},
   "outputs": [],
   "source": []
  },
  {
   "cell_type": "code",
   "execution_count": null,
   "id": "0624bc50-bfe3-4e50-99c4-604f510d662f",
   "metadata": {},
   "outputs": [],
   "source": [
    "# Calculating the distance in miles for the trip using the Haversine formula, based on pickup and dropoff latitudes and longitudes\n",
    "def haversine_distance(lat1, lon1, lat2, lon2):\n",
    "    \"\"\"\n",
    "    Calculate the great circle distance in kilometers between two points \n",
    "    on the Earth's surface identified by latitude and longitude coordinates.\n",
    "    \"\"\"\n",
    "    # Convert latitude and longitude from degrees to radians\n",
    "    lat1, lon1, lat2, lon2 = map(math.radians, [lat1, lon1, lat2, lon2])\n",
    "    \n",
    "    # Haversine formula\n",
    "    dlat = lat2 - lat1\n",
    "    dlon = lon2 - lon1\n",
    "    a = math.sin(dlat / 2)**2 + math.cos(lat1) * math.cos(lat2) * math.sin(dlon / 2)**2\n",
    "    c = 2 * math.atan2(math.sqrt(a), math.sqrt(1 - a))\n",
    "    \n",
    "    # Radius of the Earth in kilometers\n",
    "    R = 3958.8  # Earth radius in kilometers (use 3956.0 for miles)\n",
    "    \n",
    "    # Calculate the distance\n",
    "    distance = R * c\n",
    "    \n",
    "    return distance\n",
    "\n",
    "# Example usage:\n",
    "pickup_lat = -73.99981689   # Pickup latitude (e.g., New York City)\n",
    "pickup_lon = 40.73835373  # Pickup longitude (e.g., New York City)\n",
    "dropoff_lat = -73.99951172  # Drop-off latitude (e.g., Los Angeles)\n",
    "dropoff_lon = 40.72321701  # Drop-off longitude (e.g., Los Angeles)\n",
    "\n",
    "distance_km = haversine_distance(pickup_lat, pickup_lon, dropoff_lat, dropoff_lon)\n",
    "print(f\"Distance between pickup and drop-off locations: {distance_km:.2f} kilometers\")\n"
   ]
  },
  {
   "cell_type": "code",
   "execution_count": null,
   "id": "6b8fc21c-c77d-4011-9bb5-20fec7377c25",
   "metadata": {},
   "outputs": [],
   "source": [
    "# Initialize the geolocator with a user agent\n",
    "geolocator = Nominatim(user_agent=\"geoapiExercises\")\n",
    "\n",
    "def get_place_from_coordinates(latitude, longitude, retries=3, delay=1):\n",
    "    \"\"\"\n",
    "    Get the place name from latitude and longitude coordinates.\n",
    "    \n",
    "    Parameters:\n",
    "        latitude (float): Latitude of the location.\n",
    "        longitude (float): Longitude of the location.\n",
    "        retries (int): Number of retry attempts in case of failure.\n",
    "        delay (int): Delay between retry attempts in seconds.\n",
    "    \n",
    "    Returns:\n",
    "        str: Place name or \"Unknown\" if not found.\n",
    "    \"\"\"\n",
    "    attempt = 0\n",
    "    while attempt < retries:\n",
    "        try:\n",
    "            location = geolocator.reverse((latitude, longitude), exactly_one=True)\n",
    "            if location and 'address' in location.raw:\n",
    "                address = location.raw['address']\n",
    "                # Return the most specific place available\n",
    "                for key in ['city', 'town', 'village', 'suburb', 'neighborhood']:\n",
    "                    if key in address:\n",
    "                        return address[key]\n",
    "                return address.get('country', 'Unknown')\n",
    "            return 'Unknown'\n",
    "        except GeopyError as e:\n",
    "            print(f\"GeopyError: {e}\")\n",
    "        except Exception as e:\n",
    "            print(f\"Error: {e}\")\n",
    "        \n",
    "        attempt += 1\n",
    "        time.sleep(delay)  # Wait before retrying\n",
    "\n",
    "    return 'Error'\n",
    "\n",
    "# Example usage\n",
    "latitude = 40.730610\n",
    "longitude = -73.935242\n",
    "place_name = get_place_from_coordinates(latitude, longitude)\n",
    "print(f\"Place name: {place_name}\")\n"
   ]
  },
  {
   "cell_type": "code",
   "execution_count": null,
   "id": "769c584e-e263-41b7-9865-60f7c561a4c6",
   "metadata": {},
   "outputs": [],
   "source": [
    "# Data Cleaning"
   ]
  },
  {
   "cell_type": "code",
   "execution_count": 22,
   "id": "698ac353-97b3-46ff-87ee-a19863887ecf",
   "metadata": {},
   "outputs": [
    {
     "name": "stdout",
     "output_type": "stream",
     "text": [
      "199987\n"
     ]
    }
   ],
   "source": [
    "print(len(df))"
   ]
  },
  {
   "cell_type": "code",
   "execution_count": 23,
   "id": "334bab61-4705-486d-b52f-3756e816ecdf",
   "metadata": {},
   "outputs": [],
   "source": [
    "\"\"\"\n",
    "Remove rows from the DataFrame where the 'distance_miles' column has a value of 0\n",
    "Save the updated DataFrame, which now excludes rows with 0 distance, to the original CSV file\n",
    "\"\"\"\n",
    "\n",
    "df = df[df['distance_miles'] > 0]\n",
    "df.to_csv('uber_updated.csv', index=False)"
   ]
  },
  {
   "cell_type": "code",
   "execution_count": 11,
   "id": "a3de1bba-6b3e-4a86-a9b1-079bf037bb97",
   "metadata": {},
   "outputs": [
    {
     "name": "stdout",
     "output_type": "stream",
     "text": [
      "193665\n"
     ]
    }
   ],
   "source": [
    "print(len(df))"
   ]
  },
  {
   "cell_type": "code",
   "execution_count": 26,
   "id": "312344c1-44c5-4659-81b4-0bcf1ce6c673",
   "metadata": {},
   "outputs": [],
   "source": [
    "\"\"\"\n",
    "Remove rows from the DataFrame where 'passenger_count' is 0\n",
    "Save the updated DataFrame, which now excludes rows with 0 passengers, to the original CSV file\n",
    "\"\"\"\n",
    "\n",
    "df = df[df['passenger_count'] > 0]\n",
    "df.to_csv('uber_updated.csv', index=False)"
   ]
  },
  {
   "cell_type": "code",
   "execution_count": 6,
   "id": "76cd55c4-d34c-4007-aef4-9c7e02d6a357",
   "metadata": {},
   "outputs": [
    {
     "name": "stdout",
     "output_type": "stream",
     "text": [
      "193665\n"
     ]
    }
   ],
   "source": [
    "print(len(df))"
   ]
  },
  {
   "cell_type": "code",
   "execution_count": 7,
   "id": "d82653ca",
   "metadata": {},
   "outputs": [],
   "source": [
    "\n",
    "same_location = (\n",
    "    (df['pickup_county'] == df['dropoff_county']) &\n",
    "    (df['pickup_statecode'] == df['dropoff_statecode']) &\n",
    "    (df['pickup_statename'] == df['dropoff_statename']) &\n",
    "    (df['pickup_city'] == df['dropoff_city'])\n",
    ")\n",
    "\n",
    "\n",
    "df = df[~same_location]"
   ]
  },
  {
   "cell_type": "code",
   "execution_count": 8,
   "id": "02ee1511",
   "metadata": {},
   "outputs": [
    {
     "name": "stdout",
     "output_type": "stream",
     "text": [
      "99473\n"
     ]
    }
   ],
   "source": [
    "print(len(df))"
   ]
  },
  {
   "cell_type": "code",
   "execution_count": null,
   "id": "dfc362fe-0c5c-45b1-a54b-d74228746413",
   "metadata": {},
   "outputs": [],
   "source": [
    "#understading the demographics of the data we have"
   ]
  },
  {
   "cell_type": "code",
   "execution_count": 32,
   "id": "983f4e3e-39c6-4d6a-8bae-63e6eec7f03b",
   "metadata": {},
   "outputs": [
    {
     "data": {
      "image/png": "[encoded data removed]",
      "text/plain": [
       "<Figure size 1200x600 with 1 Axes>"
      ]
     },
     "metadata": {},
     "output_type": "display_data"
    }
   ],
   "source": [
    "import pandas as pd\n",
    "import matplotlib.pyplot as plt\n",
    "\n",
    "# Load your DataFrame\n",
    "# df = pd.read_csv('your_data.csv')  # Replace with your actual data loading method\n",
    "\n",
    "# Create a new figure with specified size\n",
    "plt.figure(figsize=(12, 6))\n",
    "\n",
    "# Plot Pickup Locations as blue dots\n",
    "plt.scatter(df['pickup_longitude'], df['pickup_latitude'], c='blue', alpha=0.5, label='Pickup Locations')\n",
    "\n",
    "# Plot Dropoff Locations as red dots\n",
    "plt.scatter(df['dropoff_longitude'], df['dropoff_latitude'], c='red', alpha=0.5, label='Dropoff Locations')\n",
    "\n",
    "# Set labels for the x and y axes\n",
    "plt.xlabel('Longitude')\n",
    "plt.ylabel('Latitude')\n",
    "\n",
    "# Set the title for the plot\n",
    "plt.title('Pickup and Dropoff Locations')\n",
    "\n",
    "# Add a legend to differentiate between pickup and dropoff locations\n",
    "plt.legend()\n",
    "\n",
    "# Display the plot\n",
    "plt.show()\n"
   ]
  },
  {
   "cell_type": "code",
   "execution_count": 38,
   "id": "c973fd6a-a863-4d2d-98bc-dcc4fbd6eac0",
   "metadata": {},
   "outputs": [
    {
     "name": "stdout",
     "output_type": "stream",
     "text": [
      "Unique Pickup Cities:\n",
      "['New York' 'Cliffside Park' 'Sunnyside' 'Brooklyn' 'Long Island City'\n",
      " 'Astoria' 'Bronx' 'South Ozone Park' 'Edgewater' 'West New York'\n",
      " 'Jersey City' 'East Elmhurst' 'Inwood' 'Culebra' 'North Bergen'\n",
      " 'Springfield Gardens' 'Elmhurst' 'Woodside' 'Jackson Heights' 'Fairview'\n",
      " 'Ridgewood' 'Hastings On Hudson' 'Long Branch' 'Eastport' 'Jamaica'\n",
      " 'Richmond Hill' 'Highlands' 'Mount Vernon' 'Maspeth' 'Forest Hills'\n",
      " 'Point Lookout' 'Staten Island' 'South Richmond Hill' 'Kew Gardens'\n",
      " 'Fort Lee' 'Weehawken' 'Flushing' 'Bethlehem' 'Rego Park'\n",
      " 'Queens Village' 'Breezy Point' 'Larchmont' 'College Point'\n",
      " 'North Arlington' 'Woodmere' 'Fresh Meadows' 'Valley Stream' 'Hoboken'\n",
      " 'Orangeburg' 'Englewood Cliffs' 'New Brunswick' 'Corona' 'Ridgefield'\n",
      " 'Leonia' 'Woodhaven' 'Bronxville' 'Old Greenwich' 'Union City'\n",
      " 'Hogansburg' 'Carteret' 'Stevenson' 'Ozone Park' 'Bellerose'\n",
      " 'Middle Village' 'Bath' 'Bloomfield' 'Maplewood' 'Barnegat Light'\n",
      " 'Pelham' 'Howard Beach' 'Teaneck' 'Summit' 'Ridgefield Park' 'Elizabeth'\n",
      " 'Montclair' 'New Rochelle' 'Cambria Heights' 'Carle Place' 'Bricelyn'\n",
      " 'Oyster Bay' 'Arverne' 'Oakland Gardens' 'Tenafly' 'Boqueron' 'Brentwood'\n",
      " 'Ocean Beach' 'Siasconset' 'Glen Ridge' 'New Hyde Park' 'Livingston'\n",
      " 'Rockaway Park' 'Rochelle Park' 'Moonachie' 'Hollis' 'Secaucus' 'Bayside'\n",
      " 'Princeton' 'Wood Ridge' 'New Providence' 'Totowa' 'Palisades Park'\n",
      " 'East Haven' 'Lyndhurst' 'Floral Park' 'Yonkers' 'Garden City' 'Somerset'\n",
      " 'Atlantic Beach' 'Bayonne' 'Carlstadt' 'Trivoli' 'Saint Albans'\n",
      " 'Monmouth Beach' 'Port Washington' 'Lynbrook' 'New Milford' 'Teterboro'\n",
      " 'Keasbey' 'Closter' 'Newark' 'Centerport' 'South Bound Brook' 'Ardsley'\n",
      " 'Whitestone' 'Belleville' 'Wallington' 'Flanders' 'Mamaroneck'\n",
      " 'Short Hills' 'Hellertown' 'Churubusco' 'Rutherford' 'Weikert'\n",
      " 'Levittown' 'Greenwich' 'Ocean Grove' 'Hewlett' 'Franklin Lakes'\n",
      " 'Waccabuc' 'Leonardo' 'Bellmore' 'Oceanside' 'Englewood' 'Bogota'\n",
      " 'East Meadow' 'Irvington' 'Freeport' 'Manchester Township'\n",
      " 'Cold Spring Harbor' 'Alpine' 'Suffern' 'Ho Ho Kus' 'Rosedale'\n",
      " 'South Orange' 'Rouses Point' 'Shirley' 'Pocono Summit' 'Fairfield'\n",
      " 'Middletown' 'South Hackensack' 'Westbury' 'Montville' 'Gloucester'\n",
      " 'Purchase' 'Montvale' 'Atlantic Highlands' 'Glen Oaks' 'Richlandtown'\n",
      " 'Elmont' 'Clifton' 'Southport' 'Union' 'Great Neck' 'South Plainfield'\n",
      " 'Ramsey' 'Islandia' 'Hicksville' 'Hempstead' 'Great Barrington']\n"
     ]
    }
   ],
   "source": [
    "#printing all the unique cities\n",
    "unique_cities = df['pickup_city'].unique()\n",
    "print(\"Unique Pickup Cities:\")\n",
    "print(unique_cities)"
   ]
  }
 ],
 "metadata": {
  "kernelspec": {
   "display_name": "Python 3 (ipykernel)",
   "language": "python",
   "name": "python3"
  },
  "language_info": {
   "codemirror_mode": {
    "name": "ipython",
    "version": 3
   },
   "file_extension": ".py",
   "mimetype": "text/x-python",
   "name": "python",
   "nbconvert_exporter": "python",
   "pygments_lexer": "ipython3",
   "version": "3.11.9"
  }
 },
 "nbformat": 4,
 "nbformat_minor": 5
}
